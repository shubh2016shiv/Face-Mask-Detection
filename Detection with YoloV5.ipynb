{
 "cells": [
  {
   "cell_type": "markdown",
   "metadata": {},
   "source": [
    "<div style=\"background-color:##ff99ff\">\n",
    "  <h1>Detection with YOLO V5</h1>\n",
    "</div>"
   ]
  },
  {
   "cell_type": "markdown",
   "metadata": {},
   "source": [
    "### Before proceeding ahead with detection part on you local Computer, please download the best weights for      YOLO v5, that we got after training face mask detection in my [colab notebook] (https://colab.research.google.com/drive/1JFUkwnpBi0Ou7elSz2Jre5Sln6WXR_a-?usp=sharing)\n",
    "\n",
    "### Then, clone the YOLO V5 repository on your local computer, using below command (https://github.com/ultralytics/yolov5)"
   ]
  },
  {
   "cell_type": "code",
   "execution_count": null,
   "metadata": {},
   "outputs": [],
   "source": [
    "import torch\n",
    "from IPython.display import Image, clear_output  # to display images\n",
    "import yaml # To read confugration yaml file for YOLO V5\n",
    "from IPython.core.magic import register_line_cell_magic"
   ]
  },
  {
   "cell_type": "code",
   "execution_count": null,
   "metadata": {},
   "outputs": [],
   "source": [
    "# Check if you have following requirements\n",
    "# torch>=1.6.0\n",
    "# torchvision>=0.7.0\n",
    "# NVidea GPU\n",
    "clear_output()\n",
    "print('Setup complete. Using torch %s %s' % (torch.__version__, torch.cuda.get_device_properties(0) if torch.cuda.is_available() else 'CPU'))"
   ]
  },
  {
   "cell_type": "code",
   "execution_count": null,
   "metadata": {},
   "outputs": [],
   "source": [
    "# Change the directory to yolov5 previously downloaded(or cloned) during training using 'https://github.com/ultralytics/yolov5' \n",
    "import os\n",
    "os.chdir(\"./yolov5/\")"
   ]
  },
  {
   "cell_type": "markdown",
   "metadata": {},
   "source": [
    "## Detection on Images\n",
    "\n",
    "#### Below detect.py takes following inputs\n",
    "#### Weights [--weights] : There are weights after training Yolo V5. Weights can be found at location ./yolov5/runs/exp0_yolov5s_results/weights/best.pt . Copy this weight file to yolov5 folder\n",
    "#### Image Size [--img]: The input image size is 416 x 416\n",
    "#### Confidence [--conf] : if the probability of detecting the Face Mask is above this confidence level, then, bounding box will be created\n",
    "#### Source of Test Images [--source] : It is the Images folder on which you would like run inference on. Otherwise, an individual image path can also be given\n",
    "\n",
    "### Output images with bounding boxes will created at location: \"yolov5/inference/output/\""
   ]
  },
  {
   "cell_type": "code",
   "execution_count": null,
   "metadata": {},
   "outputs": [],
   "source": [
    "!python detect.py --weights ../best.pt --img 416 --conf 0.5 --source ../test/images"
   ]
  },
  {
   "cell_type": "markdown",
   "metadata": {},
   "source": [
    "## Detection on Live Webcam\n",
    "#### Here, give the value of --source as 0 "
   ]
  },
  {
   "cell_type": "code",
   "execution_count": null,
   "metadata": {
    "scrolled": true
   },
   "outputs": [],
   "source": [
    "!python detect.py --weights ../best.pt --conf 0.5 --source 0"
   ]
  },
  {
   "cell_type": "markdown",
   "metadata": {},
   "source": [
    "## Detection on Video"
   ]
  },
  {
   "cell_type": "code",
   "execution_count": null,
   "metadata": {
    "scrolled": true
   },
   "outputs": [],
   "source": [
    "!python detect.py --weights ../best.pt --source ../Mask_Crowd_Videos/maskVideo1.mp4 --view-img --output inference/output/outputMaskVideo1"
   ]
  }
 ],
 "metadata": {
  "kernelspec": {
   "display_name": "Python 3",
   "language": "python",
   "name": "python3"
  },
  "language_info": {
   "codemirror_mode": {
    "name": "ipython",
    "version": 3
   },
   "file_extension": ".py",
   "mimetype": "text/x-python",
   "name": "python",
   "nbconvert_exporter": "python",
   "pygments_lexer": "ipython3",
   "version": "3.7.6"
  }
 },
 "nbformat": 4,
 "nbformat_minor": 4
}
